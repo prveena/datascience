{
  "nbformat": 4,
  "nbformat_minor": 0,
  "metadata": {
    "colab": {
      "name": "matrix multiplication & transformation.ipynb",
      "provenance": [],
      "authorship_tag": "ABX9TyOV+AwPdBa2yCocjZox632g",
      "include_colab_link": true
    },
    "kernelspec": {
      "name": "python3",
      "display_name": "Python 3"
    },
    "language_info": {
      "name": "python"
    }
  },
  "cells": [
    {
      "cell_type": "markdown",
      "metadata": {
        "id": "view-in-github",
        "colab_type": "text"
      },
      "source": [
        "<a href=\"https://colab.research.google.com/github/prveena/datascience/blob/master/matrix_multiplication_%26_transformation.ipynb\" target=\"_parent\"><img src=\"https://colab.research.google.com/assets/colab-badge.svg\" alt=\"Open In Colab\"/></a>"
      ]
    },
    {
      "cell_type": "code",
      "execution_count": null,
      "metadata": {
        "id": "MOpIJMpFzo-d",
        "outputId": "abce9150-ca3c-4677-b7e7-3c1dee2eceab",
        "colab": {
          "base_uri": "https://localhost:8080/"
        }
      },
      "outputs": [
        {
          "output_type": "stream",
          "name": "stdout",
          "text": [
            "The element wise multiplication of matrix is : \n",
            "[[ 7 16]\n",
            " [36 50]]\n",
            "The product of matrices is : \n",
            "[[25 28]\n",
            " [73 82]]\n",
            "Given matrix:\n",
            "[[1 2]\n",
            " [4 5]]\n",
            "The transpose of given matrix is : \n",
            "[[1 4]\n",
            " [2 5]]\n",
            "The trace of given matrix is : \n",
            "6\n",
            "2\n",
            "-2.9999999999999996\n",
            "[[-1.66666667  0.66666667]\n",
            " [ 1.33333333 -0.33333333]]\n",
            "(array([-0.46410162,  6.46410162]), array([[-0.80689822, -0.34372377],\n",
            "       [ 0.59069049, -0.9390708 ]]))\n"
          ]
        }
      ],
      "source": [
        "# Python code to demonstrate matrix operations\n",
        "# multiply() and dot()\n",
        "  \n",
        "# importing numpy for matrix operations\n",
        "import numpy\n",
        "  \n",
        "# initializing matrices\n",
        "x = numpy.array([[1, 2], [4, 5]])\n",
        "y = numpy.array([[7, 8], [9, 10]])\n",
        "  \n",
        "# using multiply() to multiply matrices element wise\n",
        "print (\"The element wise multiplication of matrix is : \")\n",
        "print (numpy.multiply(x,y))\n",
        "  \n",
        "# using dot() to multiply matrices\n",
        "print (\"The product of matrices is : \")\n",
        "print (numpy.dot(x,y))\n",
        "\n",
        "# using \"T\" to transpose the matrix\n",
        "print(\"Given matrix:\")\n",
        "print(x)\n",
        "print (\"The transpose of given matrix is : \")\n",
        "print (x.T)\n",
        "\n",
        "# using \"trace\" to find trace of the matrix\n",
        "print (\"The trace of given matrix is : \")\n",
        "print (x.trace())\n",
        "\n",
        "#Rank of matrix\n",
        "print(numpy.linalg.matrix_rank(x))\n",
        "\n",
        "#Determinant of matrix\n",
        "print(numpy.linalg.det(x))\n",
        "\n",
        "#Inverse of matrix\n",
        "print(numpy.linalg.inv(x))\n",
        "\n",
        "#Eigen values of matrix\n",
        "print(numpy.linalg.eig(x))"
      ]
    }
  ]
}