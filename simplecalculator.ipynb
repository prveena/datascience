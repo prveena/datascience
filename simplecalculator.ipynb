{
  "nbformat": 4,
  "nbformat_minor": 0,
  "metadata": {
    "colab": {
      "name": "Untitled9.ipynb",
      "provenance": [],
      "authorship_tag": "ABX9TyPMxqf2JQ3c85HltsLVPdRP",
      "include_colab_link": true
    },
    "kernelspec": {
      "name": "python3",
      "display_name": "Python 3"
    },
    "language_info": {
      "name": "python"
    }
  },
  "cells": [
    {
      "cell_type": "markdown",
      "metadata": {
        "id": "view-in-github",
        "colab_type": "text"
      },
      "source": [
        "<a href=\"https://colab.research.google.com/github/prveena/datascience/blob/master/simplecalculator.ipynb\" target=\"_parent\"><img src=\"https://colab.research.google.com/assets/colab-badge.svg\" alt=\"Open In Colab\"/></a>"
      ]
    },
    {
      "cell_type": "code",
      "execution_count": 1,
      "metadata": {
        "id": "yxI569Xr1NK0"
      },
      "outputs": [],
      "source": [
        "def add(x, y):\n",
        "    return x + y\n",
        "    "
      ]
    },
    {
      "cell_type": "code",
      "source": [
        "def subtract(x, y):\n",
        "    return x - y"
      ],
      "metadata": {
        "id": "8dQjvygf1O7w"
      },
      "execution_count": 2,
      "outputs": []
    },
    {
      "cell_type": "code",
      "source": [
        "def multiply(x, y):\n",
        "    return x * y"
      ],
      "metadata": {
        "id": "w47oBlnX1TPn"
      },
      "execution_count": 3,
      "outputs": []
    },
    {
      "cell_type": "code",
      "source": [
        "def divide(x, y):\n",
        "    return x / y"
      ],
      "metadata": {
        "id": "SMhHH5QL1VoG"
      },
      "execution_count": 4,
      "outputs": []
    },
    {
      "cell_type": "code",
      "source": [
        "print(\"Select operation.\")\n",
        "print(\"1.Add\")\n",
        "print(\"2.Subtract\")\n",
        "print(\"3.Multiply\")\n",
        "print(\"4.Divide\")\n"
      ],
      "metadata": {
        "id": "9fiq39sm1XoW"
      },
      "execution_count": null,
      "outputs": []
    },
    {
      "cell_type": "code",
      "source": [
        "while True:\n",
        "    \n",
        "    choice = input(\"Enter choice(1/2/3/4): \")\n",
        "\n",
        "    \n",
        "    if choice in ('1', '2', '3', '4'):\n",
        "        num1 = float(input(\"Enter first number: \"))\n",
        "        num2 = float(input(\"Enter second number: \"))\n",
        "\n",
        "        if choice == '1':\n",
        "            print(num1, \"+\", num2, \"=\", add(num1, num2))\n",
        "\n",
        "        elif choice == '2':\n",
        "            print(num1, \"-\", num2, \"=\", subtract(num1, num2))\n",
        "\n",
        "        elif choice == '3':\n",
        "            print(num1, \"*\", num2, \"=\", multiply(num1, num2))\n",
        "\n",
        "        elif choice == '4':\n",
        "            print(num1, \"/\", num2, \"=\", divide(num1, num2))\n",
        "        \n",
        "      \n",
        "        \n",
        "        next_calculation = input(\"Let's do next calculation? (yes/no): \")\n",
        "        if next_calculation == \"no\":\n",
        "          break\n",
        "    \n",
        "    else:\n",
        "        print(\"Invalid Input\")"
      ],
      "metadata": {
        "colab": {
          "base_uri": "https://localhost:8080/"
        },
        "id": "rAHEHyAG1cvW",
        "outputId": "5f6fecb2-03f5-4745-e48b-4132135b3a43"
      },
      "execution_count": 6,
      "outputs": [
        {
          "name": "stdout",
          "output_type": "stream",
          "text": [
            "Enter choice(1/2/3/4): 1\n",
            "Enter first number: 7\n",
            "Enter second number: 8\n",
            "7.0 + 8.0 = 15.0\n",
            "Let's do next calculation? (yes/no): yes\n",
            "Enter choice(1/2/3/4): 2\n",
            "Enter first number: 8\n",
            "Enter second number: 9\n",
            "8.0 - 9.0 = -1.0\n",
            "Let's do next calculation? (yes/no): no\n"
          ]
        }
      ]
    }
  ]
}