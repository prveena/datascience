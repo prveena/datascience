{
  "cells": [
    {
      "cell_type": "markdown",
      "metadata": {
        "id": "view-in-github",
        "colab_type": "text"
      },
      "source": [
        "<a href=\"https://colab.research.google.com/github/prveena/datascience/blob/master/ds_co2_knn_algorithm.ipynb\" target=\"_parent\"><img src=\"https://colab.research.google.com/assets/colab-badge.svg\" alt=\"Open In Colab\"/></a>"
      ]
    },
    {
      "cell_type": "code",
      "execution_count": null,
      "metadata": {
        "colab": {
          "background_save": true,
          "base_uri": "https://localhost:8080/"
        },
        "id": "uVTPr5Rd2AmI",
        "outputId": "43022660-2880-4fe0-b981-cb9136a64b1f"
      },
      "outputs": [
        {
          "name": "stdout",
          "output_type": "stream",
          "text": [
            "3.0\n",
            "2.0\n",
            "3.0\n",
            "1.0\n"
          ]
        }
      ],
      "source": [
        "import pandas as pd\n",
        "import numpy as np\n",
        "from math import sqrt\n",
        "\n",
        "# calculate euclidean distance\n",
        "def euclidean_distance(row1,row2):\n",
        "  distance=0.0\n",
        "  for i in range(len(row1)-1):\n",
        "    distance+=(row1[i]-row2[i])**2\n",
        "  return sqrt(distance) \n",
        "dataset1=[[5,6]]  \n",
        "dataset=[[2,3],[7,6],[8,9],[6,7]]\n",
        "row0=dataset1[0]\n",
        "for row in dataset:\n",
        "  distance=euclidean_distance(row0,row)\n",
        "  print(distance)\n"
      ]
    },
    {
      "cell_type": "code",
      "execution_count": null,
      "metadata": {
        "id": "TomfQ31QtvO2"
      },
      "outputs": [],
      "source": [
        "# locate similar neighbor\n",
        "def get_neighbors(train, test_row, num_neighbors):\n",
        "\tdistances = list()\n",
        "\tfor train_row in train:\n",
        "\t\tdist = euclidean_distance(test_row, train_row)\n",
        "\t\tdistances.append((train_row, dist))\n",
        "\tdistances.sort(key=lambda tup: tup[1])\n",
        "\tneighbors = list()\n",
        "\tfor i in range(num_neighbors):\n",
        "\t\tneighbors.append(distances[i][0])\n",
        "\treturn neighbors\n"
      ]
    },
    {
      "cell_type": "code",
      "execution_count": null,
      "metadata": {
        "colab": {
          "base_uri": "https://localhost:8080/"
        },
        "id": "VI2GEbiDxsy1",
        "outputId": "48c6a429-7842-43e9-ac1d-a00bc5d34da8"
      },
      "outputs": [
        {
          "name": "stdout",
          "output_type": "stream",
          "text": [
            "[2, 3]\n",
            "[6, 7]\n",
            "[7, 6]\n",
            "[8, 9]\n"
          ]
        }
      ],
      "source": [
        "# test distance function\n",
        "\n",
        "neighbors = get_neighbors(dataset, dataset[0], 4)\n",
        "for neighbor in neighbors:\n",
        "\tprint(neighbor)"
      ]
    },
    {
      "cell_type": "code",
      "execution_count": null,
      "metadata": {
        "id": "sTb2lwlu0EU9"
      },
      "outputs": [],
      "source": [
        "# classification \n",
        "def predict_classification(train, test_row, num_neighbors):\n",
        "\tneighbors = get_neighbors(train, test_row, num_neighbors)\n",
        "\toutput_values = [row[-1] for row in neighbors]\n",
        "\tprediction = max(set(output_values), key=output_values.count)\n",
        "\treturn prediction\n",
        " "
      ]
    },
    {
      "cell_type": "code",
      "execution_count": null,
      "metadata": {
        "colab": {
          "base_uri": "https://localhost:8080/"
        },
        "id": "ZL22YNVQ0KDZ",
        "outputId": "7f77ba5b-363f-44d2-9472-fc1025d53a9e"
      },
      "outputs": [
        {
          "name": "stdout",
          "output_type": "stream",
          "text": [
            "Expected : 3 \n",
            "Got : 9\n"
          ]
        }
      ],
      "source": [
        "# prediction\n",
        "prediction = predict_classification(dataset, dataset[0], 4)\n",
        "print('Expected : %d \\nGot : %d' % (dataset[0][-1], prediction))"
      ]
    }
  ],
  "metadata": {
    "colab": {
      "name": "ds co2 knn algorithm",
      "provenance": [],
      "authorship_tag": "ABX9TyM6HYxA2n3BZuy+vJGqjWyF",
      "include_colab_link": true
    },
    "kernelspec": {
      "display_name": "Python 3",
      "name": "python3"
    },
    "language_info": {
      "name": "python"
    }
  },
  "nbformat": 4,
  "nbformat_minor": 0
}