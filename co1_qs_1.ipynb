{
  "nbformat": 4,
  "nbformat_minor": 0,
  "metadata": {
    "colab": {
      "name": "co1 qs:1",
      "provenance": [],
      "authorship_tag": "ABX9TyOQzAguJ4xQs6T6HaWTf/uP",
      "include_colab_link": true
    },
    "kernelspec": {
      "name": "python3",
      "display_name": "Python 3"
    },
    "language_info": {
      "name": "python"
    }
  },
  "cells": [
    {
      "cell_type": "markdown",
      "metadata": {
        "id": "view-in-github",
        "colab_type": "text"
      },
      "source": [
        "<a href=\"https://colab.research.google.com/github/prveena/datascience/blob/master/co1_qs_1.ipynb\" target=\"_parent\"><img src=\"https://colab.research.google.com/assets/colab-badge.svg\" alt=\"Open In Colab\"/></a>"
      ]
    },
    {
      "cell_type": "code",
      "metadata": {
        "colab": {
          "base_uri": "https://localhost:8080/"
        },
        "id": "RIZ942Ae0y3Y",
        "outputId": "b89a4b1a-34d5-4c90-c921-bd4655b15962"
      },
      "source": [
        "a=int(input(\"Enter first no \"))\n",
        "b=int(input(\"Enter second no \"))\n",
        "c=a+b\n",
        "print(\"Sum of no is \",c)"
      ],
      "execution_count": null,
      "outputs": [
        {
          "output_type": "stream",
          "name": "stdout",
          "text": [
            "Enter first no 10\n",
            "Enter second no 20\n",
            "Sum of no is  30\n"
          ]
        }
      ]
    },
    {
      "cell_type": "code",
      "metadata": {
        "colab": {
          "base_uri": "https://localhost:8080/"
        },
        "id": "91IFsayX1OZN",
        "outputId": "eab57c7d-e9d8-49a4-81fd-a42212eacf4a"
      },
      "source": [
        "a=int(input(\"Enter the no \"))\n",
        "s=0\n",
        "while(a>0):\n",
        "  r=a%10\n",
        "  s=s*10+r\n",
        "  a=a//10\n",
        "print(\"The reverse is \",s)"
      ],
      "execution_count": null,
      "outputs": [
        {
          "output_type": "stream",
          "name": "stdout",
          "text": [
            "Enter the no 123\n",
            "The reverse is  321\n"
          ]
        }
      ]
    },
    {
      "cell_type": "code",
      "metadata": {
        "colab": {
          "base_uri": "https://localhost:8080/"
        },
        "id": "2p6YMa_e2i8S",
        "outputId": "6c029168-d354-458e-dea0-9ee02c3d2745"
      },
      "source": [
        "num=int(input(\"Enter the no \"))\n",
        "if(num>0):\n",
        "  print(\"Positive no\")\n",
        "else:\n",
        "  print(\"Negative no\")  "
      ],
      "execution_count": null,
      "outputs": [
        {
          "output_type": "stream",
          "name": "stdout",
          "text": [
            "Enter the no 12\n",
            "Positive no\n"
          ]
        }
      ]
    },
    {
      "cell_type": "code",
      "metadata": {
        "colab": {
          "base_uri": "https://localhost:8080/"
        },
        "id": "rTS0zukp28Dk",
        "outputId": "43d58359-3b95-4b49-d7eb-be4a81233512"
      },
      "source": [
        "n=int(input(\"Enter the no \"))\n",
        "count=0\n",
        "while(n!=0):\n",
        "  count=count+1\n",
        "  n=n//10\n",
        "print(\"The no of digits are \",count)\n",
        "  "
      ],
      "execution_count": null,
      "outputs": [
        {
          "output_type": "stream",
          "name": "stdout",
          "text": [
            "Enter the no 345\n",
            "The no of digits are  3\n"
          ]
        }
      ]
    },
    {
      "cell_type": "code",
      "metadata": {
        "colab": {
          "base_uri": "https://localhost:8080/"
        },
        "id": "XcXkPJxH4WLX",
        "outputId": "4192d539-d1fb-4b05-efd9-9f4afc3c295a"
      },
      "source": [
        "num=int(input(\"Enter the no \"))\n",
        "temp=num\n",
        "r=0\n",
        "while(num>0):\n",
        " dig=num%10\n",
        " r=r*10+dig\n",
        " num=num//10\n",
        "if(temp==r):\n",
        " print(\"Palindrome\")\n",
        "else:\n",
        " print(\"Not palindrome\")   "
      ],
      "execution_count": null,
      "outputs": [
        {
          "output_type": "stream",
          "name": "stdout",
          "text": [
            "Enter the no 45412\n",
            "Not palindrome\n"
          ]
        }
      ]
    },
    {
      "cell_type": "code",
      "metadata": {
        "colab": {
          "base_uri": "https://localhost:8080/"
        },
        "id": "JBRAXLeq9kt7",
        "outputId": "ce750aa8-f185-4db4-eee0-d649ba3fc050"
      },
      "source": [
        "r=int(input(\"Enter the radius of circle \"))\n",
        "p=2*3.14*r*r\n",
        "a=3.14*r*r\n",
        "print(\"Perimeter = \",p)\n",
        "print(\"Area = \",a)"
      ],
      "execution_count": null,
      "outputs": [
        {
          "output_type": "stream",
          "name": "stdout",
          "text": [
            "Enter the radius of circle 2\n",
            "Perimeter =  25.12\n",
            "Area =  12.56\n"
          ]
        }
      ]
    },
    {
      "cell_type": "code",
      "metadata": {
        "colab": {
          "base_uri": "https://localhost:8080/"
        },
        "id": "kELYvb73_ML7",
        "outputId": "5741b7c0-487a-4c5b-a3f1-df79b3f616e1"
      },
      "source": [
        "a=int(input(\"Enter first no \"))\n",
        "b=int(input(\"Enter second no \"))\n",
        "c=int(input(\"Enter third no \"))\n",
        "if(a >= b) and (a >=c):\n",
        "  print(\"The largest no is \",a)\n",
        "elif(b >= a) and (b >=c):\n",
        "  print(\"The largest no is \",b)\n",
        "else:\n",
        "  print(\"the largest no is \",c)\n"
      ],
      "execution_count": null,
      "outputs": [
        {
          "output_type": "stream",
          "name": "stdout",
          "text": [
            "Enter first no 5\n",
            "Enter second no 2\n",
            "Enter third no 9\n",
            "the largest no is  9\n"
          ]
        }
      ]
    },
    {
      "cell_type": "code",
      "metadata": {
        "colab": {
          "base_uri": "https://localhost:8080/"
        },
        "id": "zR-939y_CIw9",
        "outputId": "d846e3af-8c22-48db-9381-d461d61781fb"
      },
      "source": [
        "list=[2,3,4,1,8,6]\n",
        "print(\"List is \",list)\n",
        "print(\"First no is \",list[0],\"\\n Last no is \",list[-1])\n"
      ],
      "execution_count": null,
      "outputs": [
        {
          "output_type": "stream",
          "name": "stdout",
          "text": [
            "List is  [2, 3, 4, 1, 8, 6]\n",
            "First no is  2 \n",
            " Last no is  6\n"
          ]
        }
      ]
    },
    {
      "cell_type": "code",
      "metadata": {
        "id": "FWiiWazjHEPf"
      },
      "source": [
        ""
      ],
      "execution_count": null,
      "outputs": []
    },
    {
      "cell_type": "code",
      "metadata": {
        "id": "X0dSXgdqA2Gk"
      },
      "source": [
        "n=input(\"Enter the nos seperated by comma \")\n",
        "list=n.split(\",\")\n",
        "tuple=tuple(list)\n",
        "print(\"list\",list)\n",
        "print(\"tuple\",tuple)"
      ],
      "execution_count": null,
      "outputs": []
    },
    {
      "cell_type": "code",
      "metadata": {
        "colab": {
          "base_uri": "https://localhost:8080/"
        },
        "id": "Qm3KIM0UDlTf",
        "outputId": "1efc8f21-5440-40dc-9d93-c810eec7ff52"
      },
      "source": [
        "dict={1:\"Apple\",2:\"Banana\",3:\"Cat\",4:\"Dog\",5:\"Egg\"}\n",
        "print(\"Dictionary \",dict)"
      ],
      "execution_count": null,
      "outputs": [
        {
          "output_type": "stream",
          "name": "stdout",
          "text": [
            "Dictionary  {1: 'Apple', 2: 'Banana', 3: 'Cat', 4: 'Dog', 5: 'Egg'}\n"
          ]
        }
      ]
    },
    {
      "cell_type": "code",
      "metadata": {
        "colab": {
          "base_uri": "https://localhost:8080/"
        },
        "id": "GCYQstt9GMQ1",
        "outputId": "8a234d0d-4632-469b-d667-6e5ca053ec83"
      },
      "source": [
        "dict1={1:\"Apple\", 2:\"Banana\"}\n",
        "dict2={3:\"Cat\", 4:\"Dog\"}\n",
        "dict1.update(dict2)\n",
        "print(dict1)\n"
      ],
      "execution_count": null,
      "outputs": [
        {
          "output_type": "stream",
          "name": "stdout",
          "text": [
            "{1: 'Apple', 2: 'Banana', 3: 'Cat', 4: 'Dog'}\n"
          ]
        }
      ]
    },
    {
      "cell_type": "code",
      "metadata": {
        "id": "DJql18OwBR2T"
      },
      "source": [
        ""
      ],
      "execution_count": null,
      "outputs": []
    }
  ]
}