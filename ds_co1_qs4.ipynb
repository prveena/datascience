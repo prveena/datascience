{
  "nbformat": 4,
  "nbformat_minor": 0,
  "metadata": {
    "colab": {
      "name": "ds co1 qs4",
      "provenance": [],
      "authorship_tag": "ABX9TyPQZfExRBIJyuniM2m4iXIN",
      "include_colab_link": true
    },
    "kernelspec": {
      "name": "python3",
      "display_name": "Python 3"
    },
    "language_info": {
      "name": "python"
    }
  },
  "cells": [
    {
      "cell_type": "markdown",
      "metadata": {
        "id": "view-in-github",
        "colab_type": "text"
      },
      "source": [
        "<a href=\"https://colab.research.google.com/github/prveena/datascience/blob/master/ds_co1_qs4.ipynb\" target=\"_parent\"><img src=\"https://colab.research.google.com/assets/colab-badge.svg\" alt=\"Open In Colab\"/></a>"
      ]
    },
    {
      "cell_type": "code",
      "metadata": {
        "colab": {
          "base_uri": "https://localhost:8080/"
        },
        "id": "sUnETnJ4noe3",
        "outputId": "e47e2a24-c86c-4b55-c9cf-6df85deec2ca"
      },
      "source": [
        "import pandas as pd\n",
        "import numpy as np\n",
        "x=[1,2,3]\n",
        "ser=pd.Series(x)\n",
        "print(ser)\n"
      ],
      "execution_count": null,
      "outputs": [
        {
          "output_type": "stream",
          "name": "stdout",
          "text": [
            "0    1\n",
            "1    2\n",
            "2    3\n",
            "dtype: int64\n"
          ]
        }
      ]
    },
    {
      "cell_type": "code",
      "metadata": {
        "colab": {
          "base_uri": "https://localhost:8080/"
        },
        "id": "k8HI3kM5o6-j",
        "outputId": "dc719975-ce78-499a-eff8-39b1748b2b10"
      },
      "source": [
        "x=np.array(['Apple','Banana','Grapes'])\n",
        "ser=pd.Series(x,index=['A','B','G'])\n",
        "print(ser['A'])"
      ],
      "execution_count": null,
      "outputs": [
        {
          "output_type": "stream",
          "name": "stdout",
          "text": [
            "Apple\n"
          ]
        }
      ]
    },
    {
      "cell_type": "code",
      "metadata": {
        "colab": {
          "base_uri": "https://localhost:8080/"
        },
        "id": "gfK2amyfqPXu",
        "outputId": "de16de66-a4a1-4215-c312-8238136604f5"
      },
      "source": [
        "x=['Apple','Banana','Grapes']\n",
        "ser=pd.Series(x)\n",
        "print(ser)"
      ],
      "execution_count": null,
      "outputs": [
        {
          "output_type": "stream",
          "name": "stdout",
          "text": [
            "0     Apple\n",
            "1    Banana\n",
            "2    Grapes\n",
            "dtype: object\n"
          ]
        }
      ]
    },
    {
      "cell_type": "code",
      "metadata": {
        "colab": {
          "base_uri": "https://localhost:8080/"
        },
        "id": "N1sKlv6CrUSm",
        "outputId": "b6e9dfd6-b346-43bf-d172-2c8767596390"
      },
      "source": [
        "x=pd.Index([1,2,0,3,4])\n",
        "y=pd.Index([2,7,8,6,9])\n",
        "print(x,'\\n' ,y)\n"
      ],
      "execution_count": null,
      "outputs": [
        {
          "output_type": "stream",
          "name": "stdout",
          "text": [
            "Int64Index([1, 2, 0, 3, 4], dtype='int64') \n",
            " Int64Index([2, 7, 8, 6, 9], dtype='int64')\n"
          ]
        }
      ]
    },
    {
      "cell_type": "code",
      "metadata": {
        "colab": {
          "base_uri": "https://localhost:8080/"
        },
        "id": "vblmIN9hsiK8",
        "outputId": "56308fe7-9ac6-425b-d215-85216b4c1bf9"
      },
      "source": [
        "x.append(y)"
      ],
      "execution_count": null,
      "outputs": [
        {
          "output_type": "execute_result",
          "data": {
            "text/plain": [
              "Int64Index([1, 2, 0, 3, 4, 2, 7, 8, 6, 9], dtype='int64')"
            ]
          },
          "metadata": {},
          "execution_count": 12
        }
      ]
    },
    {
      "cell_type": "code",
      "metadata": {
        "colab": {
          "base_uri": "https://localhost:8080/"
        },
        "id": "8yHtgA9ts7_g",
        "outputId": "bd2ed445-b42b-4d58-f0e9-cc3b40cb4050"
      },
      "source": [
        "x=[i for i in range(50)  if (i%2==0) and (i%3==0)]\n",
        "ser=pd.Series(x)\n",
        "print(ser[1:])"
      ],
      "execution_count": null,
      "outputs": [
        {
          "output_type": "stream",
          "name": "stdout",
          "text": [
            "1     6\n",
            "2    12\n",
            "3    18\n",
            "4    24\n",
            "5    30\n",
            "6    36\n",
            "7    42\n",
            "8    48\n",
            "dtype: int64\n"
          ]
        }
      ]
    },
    {
      "cell_type": "code",
      "metadata": {
        "colab": {
          "base_uri": "https://localhost:8080/"
        },
        "id": "r_gNhmdWuRDN",
        "outputId": "4817378f-be2f-41f0-8998-f75499b34267"
      },
      "source": [
        "l=['read','write','speak','hear']\n",
        "x=pd.DataFrame(l)\n",
        "print(x)"
      ],
      "execution_count": null,
      "outputs": [
        {
          "output_type": "stream",
          "name": "stdout",
          "text": [
            "       0\n",
            "0   read\n",
            "1  write\n",
            "2  speak\n",
            "3   hear\n"
          ]
        }
      ]
    },
    {
      "cell_type": "code",
      "metadata": {
        "colab": {
          "base_uri": "https://localhost:8080/"
        },
        "id": "oeFdBLmNvl12",
        "outputId": "ee33d9ea-2311-444d-c843-2268996d5bed"
      },
      "source": [
        "dict={'Name':['Roy','Raj','Sam'],'Age':[11,12,13]}\n",
        "y=pd.DataFrame(dict)\n",
        "print(y)"
      ],
      "execution_count": null,
      "outputs": [
        {
          "output_type": "stream",
          "name": "stdout",
          "text": [
            "  Name  Age\n",
            "0  Roy   11\n",
            "1  Raj   12\n",
            "2  Sam   13\n"
          ]
        }
      ]
    },
    {
      "cell_type": "code",
      "metadata": {
        "colab": {
          "base_uri": "https://localhost:8080/"
        },
        "id": "FihqS6NJwRIB",
        "outputId": "02e3f996-8560-450a-806f-350fed8f9e4d"
      },
      "source": [
        "s=pd.Series([67,56,67,34])\n",
        "index_=['CSE','EEE','ECE','ME']\n",
        "s.index=index_\n",
        "print(s)"
      ],
      "execution_count": null,
      "outputs": [
        {
          "output_type": "stream",
          "name": "stdout",
          "text": [
            "CSE    67\n",
            "EEE    56\n",
            "ECE    67\n",
            "ME     34\n",
            "dtype: int64\n"
          ]
        }
      ]
    },
    {
      "cell_type": "code",
      "metadata": {
        "colab": {
          "base_uri": "https://localhost:8080/"
        },
        "id": "6MwMRMChxfe4",
        "outputId": "ea8e3421-4827-4306-96db-04e83da5a207"
      },
      "source": [
        "x=[12,23,14,14]\n",
        "s=pd.Series(x,index=['MCA','BCA','MBA','BBA'])\n",
        "print(s)"
      ],
      "execution_count": null,
      "outputs": [
        {
          "output_type": "stream",
          "name": "stdout",
          "text": [
            "MCA    12\n",
            "BCA    23\n",
            "MBA    14\n",
            "BBA    14\n",
            "dtype: int64\n"
          ]
        }
      ]
    },
    {
      "cell_type": "code",
      "metadata": {
        "colab": {
          "base_uri": "https://localhost:8080/"
        },
        "id": "fMXDa_M7x_sr",
        "outputId": "a4571b09-ece0-492d-85f3-babb2fd76bcc"
      },
      "source": [
        "data={'Percentage':['78%','89%','76%','50%','90%'],\n",
        "      'Grade':['B','A','B','D','A']}\n",
        "s=pd.DataFrame(data,index=['Anu','Anju','Roy','Manu','Sam'])\n",
        "print(s)"
      ],
      "execution_count": null,
      "outputs": [
        {
          "output_type": "stream",
          "name": "stdout",
          "text": [
            "     Percentage Grade\n",
            "Anu         78%     B\n",
            "Anju        89%     A\n",
            "Roy         76%     B\n",
            "Manu        50%     D\n",
            "Sam         90%     A\n"
          ]
        }
      ]
    },
    {
      "cell_type": "code",
      "metadata": {
        "colab": {
          "base_uri": "https://localhost:8080/"
        },
        "id": "4dyOnhYizeAZ",
        "outputId": "6eb9a59a-8af4-4e0a-930c-493e44513a0c"
      },
      "source": [
        "print(s.loc[['Anju']])"
      ],
      "execution_count": null,
      "outputs": [
        {
          "output_type": "stream",
          "name": "stdout",
          "text": [
            "     Percentage Grade\n",
            "Anju        89%     A\n"
          ]
        }
      ]
    },
    {
      "cell_type": "code",
      "metadata": {
        "colab": {
          "base_uri": "https://localhost:8080/"
        },
        "id": "lgJ2K7w8_c3c",
        "outputId": "08891b74-8aa0-4fe2-9711-455a6ac4fa66"
      },
      "source": [
        "import csv\n",
        "with open('data.csv','rt') as f:\n",
        "  data=csv.reader(f)\n",
        "  for row in data:\n",
        "    print(row)"
      ],
      "execution_count": null,
      "outputs": [
        {
          "output_type": "stream",
          "name": "stdout",
          "text": [
            "['\\ufeffProgramming language', 'Designed by', 'Appeared', 'Extension']\n",
            "['Python', 'Guido van Rossum', '1991', '.py']\n",
            "['Java', 'James Gosling', '1995', '.java']\n",
            "['C++', 'Bjarne Stroustrup', '1983', '.cpp']\n"
          ]
        }
      ]
    },
    {
      "cell_type": "code",
      "metadata": {
        "colab": {
          "base_uri": "https://localhost:8080/"
        },
        "id": "KeXpcKYDCB0X",
        "outputId": "1a394e77-6ec6-4501-ab4e-d3d0edd448b1"
      },
      "source": [
        "m=pd.read_csv('/content/mark.csv')\n",
        "print(m)"
      ],
      "execution_count": null,
      "outputs": [
        {
          "output_type": "stream",
          "name": "stdout",
          "text": [
            "    Name Class  Total marks\n",
            "0    ANU   CSE          190\n",
            "1   ANJU   CSE          156\n",
            "2   ARYA   EEE          178\n",
            "3  MANJU   EEE          145\n",
            "4  GRACE   ECE          130\n"
          ]
        }
      ]
    },
    {
      "cell_type": "code",
      "metadata": {
        "colab": {
          "base_uri": "https://localhost:8080/"
        },
        "id": "5HK69pkvCqKB",
        "outputId": "9150b6bb-76a5-40bd-eff7-1df15cc88630"
      },
      "source": [
        "m=pd.read_csv('/content/MARK1.csv')\n",
        "print(m)"
      ],
      "execution_count": null,
      "outputs": [
        {
          "output_type": "stream",
          "name": "stdout",
          "text": [
            "    Name Class  Total marks\n",
            "0    ANU   CSE        190.0\n",
            "1   ANJU   CSE        156.0\n",
            "2   ARYA   EEE        178.0\n",
            "3  MANJU   EEE        145.0\n",
            "4  GRACE   ECE        130.0\n",
            "5    NaN   NaN          NaN\n",
            "6    ANU   CSE        190.0\n",
            "7   ANJU   CSE        156.0\n"
          ]
        }
      ]
    },
    {
      "cell_type": "code",
      "metadata": {
        "colab": {
          "base_uri": "https://localhost:8080/"
        },
        "id": "NppInDemEGWg",
        "outputId": "e981672d-b210-4662-f0f6-d4eca062618f"
      },
      "source": [
        "m=pd.read_csv('/content/data.csv')\n",
        "print(m)"
      ],
      "execution_count": null,
      "outputs": [
        {
          "output_type": "stream",
          "name": "stdout",
          "text": [
            "  Programming language        Designed by  Appeared Extension\n",
            "0               Python   Guido van Rossum      1991       .py\n",
            "1                 Java      James Gosling      1995     .java\n",
            "2                  C++  Bjarne Stroustrup      1983      .cpp\n"
          ]
        }
      ]
    },
    {
      "cell_type": "code",
      "metadata": {
        "colab": {
          "base_uri": "https://localhost:8080/",
          "height": 81
        },
        "id": "hLGmZPyqKJwe",
        "outputId": "bf303390-2b0a-40ba-a873-051e0360eb2e"
      },
      "source": [
        "m=pd.read_csv('/content/data.csv')\n",
        "m.corr()"
      ],
      "execution_count": null,
      "outputs": [
        {
          "output_type": "execute_result",
          "data": {
            "text/html": [
              "<div>\n",
              "<style scoped>\n",
              "    .dataframe tbody tr th:only-of-type {\n",
              "        vertical-align: middle;\n",
              "    }\n",
              "\n",
              "    .dataframe tbody tr th {\n",
              "        vertical-align: top;\n",
              "    }\n",
              "\n",
              "    .dataframe thead th {\n",
              "        text-align: right;\n",
              "    }\n",
              "</style>\n",
              "<table border=\"1\" class=\"dataframe\">\n",
              "  <thead>\n",
              "    <tr style=\"text-align: right;\">\n",
              "      <th></th>\n",
              "      <th>Appeared</th>\n",
              "    </tr>\n",
              "  </thead>\n",
              "  <tbody>\n",
              "    <tr>\n",
              "      <th>Appeared</th>\n",
              "      <td>1.0</td>\n",
              "    </tr>\n",
              "  </tbody>\n",
              "</table>\n",
              "</div>"
            ],
            "text/plain": [
              "          Appeared\n",
              "Appeared       1.0"
            ]
          },
          "metadata": {},
          "execution_count": 47
        }
      ]
    },
    {
      "cell_type": "code",
      "metadata": {
        "colab": {
          "base_uri": "https://localhost:8080/"
        },
        "id": "NvbXdnzMFWb0",
        "outputId": "1c667679-fa9c-4694-bdaf-e8f15d5fd5e3"
      },
      "source": [
        "m=pd.read_csv('/content/MARK1.csv')\n",
        "d=m.head()\n",
        "print(d)"
      ],
      "execution_count": null,
      "outputs": [
        {
          "output_type": "stream",
          "name": "stdout",
          "text": [
            "    Name Class  Total marks\n",
            "0    ANU   CSE        190.0\n",
            "1   ANJU   CSE        156.0\n",
            "2   ARYA   EEE        178.0\n",
            "3  MANJU   EEE        145.0\n",
            "4  GRACE   ECE        130.0\n"
          ]
        }
      ]
    },
    {
      "cell_type": "code",
      "metadata": {
        "colab": {
          "base_uri": "https://localhost:8080/"
        },
        "id": "dAKzIL_cGNsS",
        "outputId": "f1ecb040-52de-4247-eb3d-ade6396f122d"
      },
      "source": [
        "m=pd.read_csv('/content/MARK1.csv')\n",
        "d=m.tail()\n",
        "print(d)"
      ],
      "execution_count": null,
      "outputs": [
        {
          "output_type": "stream",
          "name": "stdout",
          "text": [
            "    Name Class  Total marks\n",
            "3  MANJU   EEE        145.0\n",
            "4  GRACE   ECE        130.0\n",
            "5    NaN   NaN          NaN\n",
            "6    ANU   CSE        190.0\n",
            "7   ANJU   CSE        156.0\n"
          ]
        }
      ]
    },
    {
      "cell_type": "code",
      "metadata": {
        "colab": {
          "base_uri": "https://localhost:8080/",
          "height": 269
        },
        "id": "gH6HaxVDGx2Q",
        "outputId": "13e24536-4641-4a36-ab99-1da6220ca444"
      },
      "source": [
        "m=pd.read_csv('/content/MARK1.csv')\n",
        "m.dropna()\n"
      ],
      "execution_count": null,
      "outputs": [
        {
          "output_type": "execute_result",
          "data": {
            "text/html": [
              "<div>\n",
              "<style scoped>\n",
              "    .dataframe tbody tr th:only-of-type {\n",
              "        vertical-align: middle;\n",
              "    }\n",
              "\n",
              "    .dataframe tbody tr th {\n",
              "        vertical-align: top;\n",
              "    }\n",
              "\n",
              "    .dataframe thead th {\n",
              "        text-align: right;\n",
              "    }\n",
              "</style>\n",
              "<table border=\"1\" class=\"dataframe\">\n",
              "  <thead>\n",
              "    <tr style=\"text-align: right;\">\n",
              "      <th></th>\n",
              "      <th>Name</th>\n",
              "      <th>Class</th>\n",
              "      <th>Total marks</th>\n",
              "    </tr>\n",
              "  </thead>\n",
              "  <tbody>\n",
              "    <tr>\n",
              "      <th>0</th>\n",
              "      <td>ANU</td>\n",
              "      <td>CSE</td>\n",
              "      <td>190.0</td>\n",
              "    </tr>\n",
              "    <tr>\n",
              "      <th>1</th>\n",
              "      <td>ANJU</td>\n",
              "      <td>CSE</td>\n",
              "      <td>156.0</td>\n",
              "    </tr>\n",
              "    <tr>\n",
              "      <th>2</th>\n",
              "      <td>ARYA</td>\n",
              "      <td>EEE</td>\n",
              "      <td>178.0</td>\n",
              "    </tr>\n",
              "    <tr>\n",
              "      <th>3</th>\n",
              "      <td>MANJU</td>\n",
              "      <td>EEE</td>\n",
              "      <td>145.0</td>\n",
              "    </tr>\n",
              "    <tr>\n",
              "      <th>4</th>\n",
              "      <td>GRACE</td>\n",
              "      <td>ECE</td>\n",
              "      <td>130.0</td>\n",
              "    </tr>\n",
              "    <tr>\n",
              "      <th>6</th>\n",
              "      <td>ANU</td>\n",
              "      <td>CSE</td>\n",
              "      <td>190.0</td>\n",
              "    </tr>\n",
              "    <tr>\n",
              "      <th>7</th>\n",
              "      <td>ANJU</td>\n",
              "      <td>CSE</td>\n",
              "      <td>156.0</td>\n",
              "    </tr>\n",
              "  </tbody>\n",
              "</table>\n",
              "</div>"
            ],
            "text/plain": [
              "    Name Class  Total marks\n",
              "0    ANU   CSE        190.0\n",
              "1   ANJU   CSE        156.0\n",
              "2   ARYA   EEE        178.0\n",
              "3  MANJU   EEE        145.0\n",
              "4  GRACE   ECE        130.0\n",
              "6    ANU   CSE        190.0\n",
              "7   ANJU   CSE        156.0"
            ]
          },
          "metadata": {},
          "execution_count": 25
        }
      ]
    },
    {
      "cell_type": "code",
      "metadata": {
        "colab": {
          "base_uri": "https://localhost:8080/"
        },
        "id": "5vzZm0zhHBR2",
        "outputId": "e43a8ab3-fa57-4192-844c-7014e993426e"
      },
      "source": [
        "m=pd.read_csv('MARK1.csv')\n",
        "a=m.drop_duplicates([\"Total marks\"])\n",
        "print(a)\n"
      ],
      "execution_count": null,
      "outputs": [
        {
          "output_type": "stream",
          "name": "stdout",
          "text": [
            "    Name Class  Total marks\n",
            "0    ANU   CSE        190.0\n",
            "1   ANJU   CSE        156.0\n",
            "2   ARYA   EEE        178.0\n",
            "3  MANJU   EEE        145.0\n",
            "4  GRACE   ECE        130.0\n",
            "5    NaN   NaN          NaN\n"
          ]
        }
      ]
    },
    {
      "cell_type": "code",
      "metadata": {
        "colab": {
          "base_uri": "https://localhost:8080/",
          "height": 81
        },
        "id": "LjxSfluVJbY9",
        "outputId": "f99f9d8d-ed25-43db-de83-be2a6f767ba9"
      },
      "source": [
        "m.corr()"
      ],
      "execution_count": null,
      "outputs": [
        {
          "output_type": "execute_result",
          "data": {
            "text/html": [
              "<div>\n",
              "<style scoped>\n",
              "    .dataframe tbody tr th:only-of-type {\n",
              "        vertical-align: middle;\n",
              "    }\n",
              "\n",
              "    .dataframe tbody tr th {\n",
              "        vertical-align: top;\n",
              "    }\n",
              "\n",
              "    .dataframe thead th {\n",
              "        text-align: right;\n",
              "    }\n",
              "</style>\n",
              "<table border=\"1\" class=\"dataframe\">\n",
              "  <thead>\n",
              "    <tr style=\"text-align: right;\">\n",
              "      <th></th>\n",
              "      <th>Total marks</th>\n",
              "    </tr>\n",
              "  </thead>\n",
              "  <tbody>\n",
              "    <tr>\n",
              "      <th>Total marks</th>\n",
              "      <td>1.0</td>\n",
              "    </tr>\n",
              "  </tbody>\n",
              "</table>\n",
              "</div>"
            ],
            "text/plain": [
              "             Total marks\n",
              "Total marks          1.0"
            ]
          },
          "metadata": {},
          "execution_count": 45
        }
      ]
    },
    {
      "cell_type": "code",
      "metadata": {
        "colab": {
          "base_uri": "https://localhost:8080/",
          "height": 81
        },
        "id": "GiF18aoAKYIr",
        "outputId": "5827c098-9341-4cd4-855a-4b9f7360e7ba"
      },
      "source": [
        "m=pd.read_csv('MARK1.csv')\n",
        "m.corr()"
      ],
      "execution_count": null,
      "outputs": [
        {
          "output_type": "execute_result",
          "data": {
            "text/html": [
              "<div>\n",
              "<style scoped>\n",
              "    .dataframe tbody tr th:only-of-type {\n",
              "        vertical-align: middle;\n",
              "    }\n",
              "\n",
              "    .dataframe tbody tr th {\n",
              "        vertical-align: top;\n",
              "    }\n",
              "\n",
              "    .dataframe thead th {\n",
              "        text-align: right;\n",
              "    }\n",
              "</style>\n",
              "<table border=\"1\" class=\"dataframe\">\n",
              "  <thead>\n",
              "    <tr style=\"text-align: right;\">\n",
              "      <th></th>\n",
              "      <th>Total marks</th>\n",
              "    </tr>\n",
              "  </thead>\n",
              "  <tbody>\n",
              "    <tr>\n",
              "      <th>Total marks</th>\n",
              "      <td>1.0</td>\n",
              "    </tr>\n",
              "  </tbody>\n",
              "</table>\n",
              "</div>"
            ],
            "text/plain": [
              "             Total marks\n",
              "Total marks          1.0"
            ]
          },
          "metadata": {},
          "execution_count": 48
        }
      ]
    },
    {
      "cell_type": "code",
      "metadata": {
        "colab": {
          "base_uri": "https://localhost:8080/"
        },
        "id": "GHD4pZMYKopy",
        "outputId": "6960d5d7-5647-495b-ec3c-cbd9e16b8bc6"
      },
      "source": [
        "a=np.matrix('[4,2,3;4,5,6;7,8,5]') \n",
        "print(\"A=\",a)\n",
        "t=a.transpose()\n",
        "print(\"Transpose of a m A=\",t)                             "
      ],
      "execution_count": null,
      "outputs": [
        {
          "output_type": "stream",
          "name": "stdout",
          "text": [
            "A= [[4 2 3]\n",
            " [4 5 6]\n",
            " [7 8 5]]\n",
            "Transpose of a m A= [[4 4 7]\n",
            " [2 5 8]\n",
            " [3 6 5]]\n"
          ]
        }
      ]
    },
    {
      "cell_type": "code",
      "metadata": {
        "colab": {
          "base_uri": "https://localhost:8080/"
        },
        "id": "1b4uQY3CLnnS",
        "outputId": "fe683176-8d61-4b24-f784-2ea735508ba3"
      },
      "source": [
        "\n",
        "import numpy as np\n",
        "a=np.array([[1,2,3,4],[5,6,7,8],[4,3,2,5]])\n",
        "print(a)\n",
        "from numpy.linalg import svd\n",
        "np.linalg.svd(a)\n",
        "\n"
      ],
      "execution_count": null,
      "outputs": [
        {
          "output_type": "stream",
          "name": "stdout",
          "text": [
            "[[1 2 3 4]\n",
            " [5 6 7 8]\n",
            " [4 3 2 5]]\n"
          ]
        },
        {
          "output_type": "execute_result",
          "data": {
            "text/plain": [
              "(array([[-0.33444699, -0.4468054 ,  0.82976511],\n",
              "        [-0.82972967, -0.27789304, -0.48407037],\n",
              "        [-0.44687121,  0.85037662,  0.27778721]]),\n",
              " array([15.86708582,  2.24061238,  1.10238096]),\n",
              " array([[-3.95194194e-01, -4.40401327e-01, -4.85608460e-01,\n",
              "         -6.43469224e-01],\n",
              "        [ 6.98575028e-01, -4.39130018e-03, -7.07357629e-01,\n",
              "          1.07790684e-01],\n",
              "        [-4.34911269e-01, -3.73310488e-01, -3.11709707e-01,\n",
              "          7.57844658e-01],\n",
              "        [-4.08248290e-01,  8.16496581e-01, -4.08248290e-01,\n",
              "          2.22339288e-16]]))"
            ]
          },
          "metadata": {},
          "execution_count": 56
        }
      ]
    },
    {
      "cell_type": "code",
      "metadata": {
        "colab": {
          "base_uri": "https://localhost:8080/"
        },
        "id": "3GIAdyfwMywJ",
        "outputId": "83c08393-6e53-41a0-bbb4-089150827115"
      },
      "source": [
        "u,s,vp=svd(a,full_matrices=True)\n",
        "print(u)\n"
      ],
      "execution_count": null,
      "outputs": [
        {
          "output_type": "stream",
          "name": "stdout",
          "text": [
            "[[-0.33444699 -0.4468054   0.82976511]\n",
            " [-0.82972967 -0.27789304 -0.48407037]\n",
            " [-0.44687121  0.85037662  0.27778721]]\n"
          ]
        }
      ]
    },
    {
      "cell_type": "code",
      "metadata": {
        "id": "n4r1qcUTNHx_",
        "outputId": "64850c97-a4d8-431d-b731-506c59a8ad0a",
        "colab": {
          "base_uri": "https://localhost:8080/"
        }
      },
      "source": [
        "print(s)"
      ],
      "execution_count": null,
      "outputs": [
        {
          "output_type": "stream",
          "name": "stdout",
          "text": [
            "[15.86708582  2.24061238  1.10238096]\n"
          ]
        }
      ]
    },
    {
      "cell_type": "code",
      "metadata": {
        "id": "LWv7eIRFNKyG",
        "outputId": "d901915a-5b6a-419f-eda9-8d7e28fc84af",
        "colab": {
          "base_uri": "https://localhost:8080/"
        }
      },
      "source": [
        "print(vp)"
      ],
      "execution_count": null,
      "outputs": [
        {
          "output_type": "stream",
          "name": "stdout",
          "text": [
            "[[-3.95194194e-01 -4.40401327e-01 -4.85608460e-01 -6.43469224e-01]\n",
            " [ 6.98575028e-01 -4.39130018e-03 -7.07357629e-01  1.07790684e-01]\n",
            " [-4.34911269e-01 -3.73310488e-01 -3.11709707e-01  7.57844658e-01]\n",
            " [-4.08248290e-01  8.16496581e-01 -4.08248290e-01  2.22339288e-16]]\n"
          ]
        }
      ]
    }
  ]
}