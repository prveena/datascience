{
  "nbformat": 4,
  "nbformat_minor": 0,
  "metadata": {
    "colab": {
      "name": "SVD.ipynb",
      "provenance": [],
      "include_colab_link": true
    },
    "kernelspec": {
      "name": "python3",
      "display_name": "Python 3"
    },
    "language_info": {
      "name": "python"
    }
  },
  "cells": [
    {
      "cell_type": "markdown",
      "metadata": {
        "id": "view-in-github",
        "colab_type": "text"
      },
      "source": [
        "<a href=\"https://colab.research.google.com/github/prveena/datascience/blob/master/SVD.ipynb\" target=\"_parent\"><img src=\"https://colab.research.google.com/assets/colab-badge.svg\" alt=\"Open In Colab\"/></a>"
      ]
    },
    {
      "cell_type": "code",
      "execution_count": null,
      "metadata": {
        "colab": {
          "base_uri": "https://localhost:8080/"
        },
        "id": "1ldS1VjZz3TL",
        "outputId": "552bfaf5-f88e-4509-cefb-dc9754e2854a"
      },
      "outputs": [
        {
          "output_type": "execute_result",
          "data": {
            "text/plain": [
              "(array([[-0.3863177 , -0.92236578],\n",
              "        [-0.92236578,  0.3863177 ]]),\n",
              " array([9.508032  , 0.77286964]),\n",
              " array([[-0.42866713, -0.56630692, -0.7039467 ],\n",
              "        [ 0.80596391,  0.11238241, -0.58119908],\n",
              "        [ 0.40824829, -0.81649658,  0.40824829]]))"
            ]
          },
          "metadata": {},
          "execution_count": 4
        }
      ],
      "source": [
        "import numpy as np\n",
        "from numpy.linalg import svd\n",
        "a = np.array([[1,2,3],[4,5,6]]) \n",
        "np.linalg.svd(a)"
      ]
    },
    {
      "cell_type": "code",
      "source": [
        "u,s,vt=svd(a,full_matrices=True)\n",
        "print(u.shape,s.shape,vt.shape)"
      ],
      "metadata": {
        "colab": {
          "base_uri": "https://localhost:8080/"
        },
        "id": "MFezub7rz7jL",
        "outputId": "72ac274d-44cb-4be8-a5e0-65ea13cfd258"
      },
      "execution_count": null,
      "outputs": [
        {
          "output_type": "stream",
          "name": "stdout",
          "text": [
            "(2, 2) (2,) (3, 3)\n"
          ]
        }
      ]
    },
    {
      "cell_type": "code",
      "source": [
        "print(u)\n",
        "print(s)\n",
        "print(vt)"
      ],
      "metadata": {
        "colab": {
          "base_uri": "https://localhost:8080/"
        },
        "id": "McYvrVjI1swS",
        "outputId": "e9801280-d73b-4a84-8a5d-eb1abaeb4a91"
      },
      "execution_count": null,
      "outputs": [
        {
          "output_type": "stream",
          "name": "stdout",
          "text": [
            "[[-0.3863177  -0.92236578]\n",
            " [-0.92236578  0.3863177 ]]\n",
            "[9.508032   0.77286964]\n",
            "[[-0.42866713 -0.56630692 -0.7039467 ]\n",
            " [ 0.80596391  0.11238241 -0.58119908]\n",
            " [ 0.40824829 -0.81649658  0.40824829]]\n"
          ]
        }
      ]
    }
  ]
}