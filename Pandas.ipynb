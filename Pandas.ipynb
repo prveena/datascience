{
  "nbformat": 4,
  "nbformat_minor": 0,
  "metadata": {
    "colab": {
      "name": "Pandas.ipynb",
      "provenance": [],
      "collapsed_sections": [],
      "include_colab_link": true
    },
    "kernelspec": {
      "name": "python3",
      "display_name": "Python 3"
    },
    "language_info": {
      "name": "python"
    }
  },
  "cells": [
    {
      "cell_type": "markdown",
      "metadata": {
        "id": "view-in-github",
        "colab_type": "text"
      },
      "source": [
        "<a href=\"https://colab.research.google.com/github/prveena/datascience/blob/master/Pandas.ipynb\" target=\"_parent\"><img src=\"https://colab.research.google.com/assets/colab-badge.svg\" alt=\"Open In Colab\"/></a>"
      ]
    },
    {
      "cell_type": "code",
      "metadata": {
        "id": "LQp7xB-iehpA"
      },
      "source": [
        "#import module pandas\n",
        "import pandas as pd"
      ],
      "execution_count": null,
      "outputs": []
    },
    {
      "cell_type": "code",
      "metadata": {
        "colab": {
          "base_uri": "https://localhost:8080/"
        },
        "id": "pNoxU1dnepXA",
        "outputId": "0fde4b7b-9b84-42a3-c3fe-44e7279e207c"
      },
      "source": [
        "\n",
        "#print a series\n",
        "a=['a','b','c','d']\n",
        "s=pd.Series(a)\n",
        "print(s)"
      ],
      "execution_count": null,
      "outputs": [
        {
          "output_type": "stream",
          "name": "stdout",
          "text": [
            "0    a\n",
            "1    b\n",
            "2    c\n",
            "3    d\n",
            "dtype: object\n"
          ]
        }
      ]
    },
    {
      "cell_type": "code",
      "metadata": {
        "colab": {
          "base_uri": "https://localhost:8080/"
        },
        "id": "UaEaUnz8g-10",
        "outputId": "afb760af-0787-4c6d-9d70-8d67d3e832d2"
      },
      "source": [
        "#print series with index\n",
        "a=['Apple','Banana','Cat']\n",
        "s=pd.Series(a,index=['A','B','C'])\n",
        "print(s)\n"
      ],
      "execution_count": null,
      "outputs": [
        {
          "output_type": "stream",
          "name": "stdout",
          "text": [
            "A     Apple\n",
            "B    Banana\n",
            "C       Cat\n",
            "dtype: object\n"
          ]
        }
      ]
    },
    {
      "cell_type": "code",
      "metadata": {
        "colab": {
          "base_uri": "https://localhost:8080/"
        },
        "id": "GxQkMKe8i-cv",
        "outputId": "ac9f7853-e25d-40d9-bb68-03a5d5f085d2"
      },
      "source": [
        "#locating value in series using index\n",
        "a=['Apple','Banana','Cat']\n",
        "s=pd.Series(a,index=['A','B','C'])\n",
        "print(s['A'])"
      ],
      "execution_count": null,
      "outputs": [
        {
          "output_type": "stream",
          "name": "stdout",
          "text": [
            "Apple\n"
          ]
        }
      ]
    },
    {
      "cell_type": "code",
      "metadata": {
        "colab": {
          "base_uri": "https://localhost:8080/"
        },
        "id": "NNtftU5wjAu2",
        "outputId": "d677fbca-bfde-49aa-d1df-b9a0cee70ebe"
      },
      "source": [
        "#series using dictionary\n",
        "dict={'A':'Apple','B':'Ball','C':'Cat'}\n",
        "s=pd.Series(dict)\n",
        "print(s)"
      ],
      "execution_count": null,
      "outputs": [
        {
          "output_type": "stream",
          "name": "stdout",
          "text": [
            "A    Apple\n",
            "B     Ball\n",
            "C      Cat\n",
            "dtype: object\n"
          ]
        }
      ]
    },
    {
      "cell_type": "code",
      "metadata": {
        "colab": {
          "base_uri": "https://localhost:8080/"
        },
        "id": "qVea8uZTkrRA",
        "outputId": "a4cff915-ec74-433f-a004-77cb453e8898"
      },
      "source": [
        "#multiples of 2 and 3\n",
        "a = [i\n",
        "     for i in range (31)\n",
        "       if (i % 3 == 0) and (i % 2 == 0)]\n",
        "s=pd.Series(a)\n",
        "print(s[1:])"
      ],
      "execution_count": null,
      "outputs": [
        {
          "output_type": "stream",
          "name": "stdout",
          "text": [
            "1     6\n",
            "2    12\n",
            "3    18\n",
            "4    24\n",
            "5    30\n",
            "dtype: int64\n"
          ]
        }
      ]
    },
    {
      "cell_type": "code",
      "metadata": {
        "colab": {
          "base_uri": "https://localhost:8080/"
        },
        "id": "2gjA274gmenw",
        "outputId": "b0caf917-fd55-4e8d-8763-febbd6a8d0b7"
      },
      "source": [
        "#Course and number of students using series\n",
        "a=['30','55','20']\n",
        "s=pd.Series(a,index=['MCA','MTech','BTech'])\n",
        "print(s)"
      ],
      "execution_count": null,
      "outputs": [
        {
          "output_type": "stream",
          "name": "stdout",
          "text": [
            "MCA      30\n",
            "MTech    55\n",
            "BTech    20\n",
            "dtype: object\n"
          ]
        }
      ]
    },
    {
      "cell_type": "code",
      "metadata": {
        "colab": {
          "base_uri": "https://localhost:8080/"
        },
        "id": "lnUsphoBom9g",
        "outputId": "69aec468-6723-497e-8fd3-ef0bc95b56ea"
      },
      "source": [
        "#Course and number of students using dataframe\n",
        "data = {\"Batch\": ['MCA', 'BCA', 'BTech'], \"Number of Students\": [50, 40, 45]}\n",
        "d=pd.DataFrame(data,index=['B1','B2','B3'])\n",
        "print(d)"
      ],
      "execution_count": null,
      "outputs": [
        {
          "output_type": "stream",
          "name": "stdout",
          "text": [
            "    Batch  Number of Students\n",
            "B1    MCA                  50\n",
            "B2    BCA                  40\n",
            "B3  BTech                  45\n"
          ]
        }
      ]
    },
    {
      "cell_type": "code",
      "metadata": {
        "colab": {
          "base_uri": "https://localhost:8080/"
        },
        "id": "tLxDEWNrpaqh",
        "outputId": "a14abb76-b769-4c89-8b47-a7c32f03be8b"
      },
      "source": [
        "#Details of 5 students using dataframe\n",
        "data = {\"Name\": ['Ayesha', 'Sree', 'Praveena','Sam','Eve'],\n",
        "         \"Percentage\": [80, 90, 95,55,75],\n",
        "         \"Grade\":['B','A','A','D','C']}\n",
        "d=pd.DataFrame(data)\n",
        "print(d)"
      ],
      "execution_count": null,
      "outputs": [
        {
          "output_type": "stream",
          "name": "stdout",
          "text": [
            "       Name  Percentage Grade\n",
            "0    Ayesha          80     B\n",
            "1      Sree          90     A\n",
            "2  Praveena          95     A\n",
            "3       Sam          55     D\n",
            "4       Eve          75     C\n"
          ]
        }
      ]
    },
    {
      "cell_type": "code",
      "metadata": {
        "colab": {
          "base_uri": "https://localhost:8080/",
          "height": 238
        },
        "id": "qOeWugBaQjwY",
        "outputId": "097feaf2-b092-45bb-b65b-22c66212a53f"
      },
      "source": [
        "df.dropna()"
      ],
      "execution_count": null,
      "outputs": [
        {
          "output_type": "execute_result",
          "data": {
            "text/html": [
              "<div>\n",
              "<style scoped>\n",
              "    .dataframe tbody tr th:only-of-type {\n",
              "        vertical-align: middle;\n",
              "    }\n",
              "\n",
              "    .dataframe tbody tr th {\n",
              "        vertical-align: top;\n",
              "    }\n",
              "\n",
              "    .dataframe thead th {\n",
              "        text-align: right;\n",
              "    }\n",
              "</style>\n",
              "<table border=\"1\" class=\"dataframe\">\n",
              "  <thead>\n",
              "    <tr style=\"text-align: right;\">\n",
              "      <th></th>\n",
              "      <th>Roll number</th>\n",
              "      <th>name</th>\n",
              "      <th>mark</th>\n",
              "    </tr>\n",
              "  </thead>\n",
              "  <tbody>\n",
              "    <tr>\n",
              "      <th>0</th>\n",
              "      <td>1</td>\n",
              "      <td>Arun</td>\n",
              "      <td>76</td>\n",
              "    </tr>\n",
              "    <tr>\n",
              "      <th>1</th>\n",
              "      <td>2</td>\n",
              "      <td>Anthony</td>\n",
              "      <td>84</td>\n",
              "    </tr>\n",
              "    <tr>\n",
              "      <th>2</th>\n",
              "      <td>3</td>\n",
              "      <td>Sam</td>\n",
              "      <td>92</td>\n",
              "    </tr>\n",
              "    <tr>\n",
              "      <th>3</th>\n",
              "      <td>4</td>\n",
              "      <td>Smith</td>\n",
              "      <td>66</td>\n",
              "    </tr>\n",
              "    <tr>\n",
              "      <th>4</th>\n",
              "      <td>5</td>\n",
              "      <td>Zoya</td>\n",
              "      <td>99</td>\n",
              "    </tr>\n",
              "    <tr>\n",
              "      <th>5</th>\n",
              "      <td>1</td>\n",
              "      <td>Arun</td>\n",
              "      <td>76</td>\n",
              "    </tr>\n",
              "  </tbody>\n",
              "</table>\n",
              "</div>"
            ],
            "text/plain": [
              "   Roll number    name   mark\n",
              "0            1     Arun    76\n",
              "1            2  Anthony    84\n",
              "2            3      Sam    92\n",
              "3            4    Smith    66\n",
              "4            5     Zoya    99\n",
              "5            1     Arun    76"
            ]
          },
          "metadata": {},
          "execution_count": 29
        }
      ]
    },
    {
      "cell_type": "code",
      "metadata": {
        "colab": {
          "base_uri": "https://localhost:8080/"
        },
        "id": "EkfLhRoOs9Ah",
        "outputId": "e8729a59-6727-4419-eece-87539530684a"
      },
      "source": [
        "#Details of 5 students using dataframe WITH INDEX NAME\n",
        "data = {\"Percentage\": [80, 90, 95,55,75],\n",
        "         \"Grade\":['B','A','A','D','C']}\n",
        "d=pd.DataFrame(data,index=['Ayesha', 'Sree', 'Praveena','Sam','Eve'])\n",
        "print(d)"
      ],
      "execution_count": null,
      "outputs": [
        {
          "output_type": "stream",
          "name": "stdout",
          "text": [
            "          Percentage Grade\n",
            "Ayesha            80     B\n",
            "Sree              90     A\n",
            "Praveena          95     A\n",
            "Sam               55     D\n",
            "Eve               75     C\n"
          ]
        }
      ]
    },
    {
      "cell_type": "code",
      "metadata": {
        "colab": {
          "base_uri": "https://localhost:8080/"
        },
        "id": "mp5lrmcDIiZ3",
        "outputId": "f4ed2619-6262-4ee5-df75-c6870f0367f8"
      },
      "source": [
        "print(df)"
      ],
      "execution_count": null,
      "outputs": [
        {
          "output_type": "stream",
          "name": "stdout",
          "text": [
            "   Roll number    name   mark\n",
            "0            1     Arun    76\n",
            "1            2  Anthony    84\n",
            "2            3      Sam    92\n",
            "3            4    Smith    66\n",
            "4            5     Zoya    99\n"
          ]
        }
      ]
    },
    {
      "cell_type": "code",
      "metadata": {
        "colab": {
          "base_uri": "https://localhost:8080/"
        },
        "id": "U8FqLxMcqITg",
        "outputId": "00f41e0b-75a9-4f38-a1b7-c3d8d4398226"
      },
      "source": [
        "#loc function\n",
        "print(d.loc[[2,3]])"
      ],
      "execution_count": null,
      "outputs": [
        {
          "output_type": "stream",
          "name": "stdout",
          "text": [
            "       Name  Percentage Grade\n",
            "2  Praveena          95     A\n",
            "3       Sam          55     D\n"
          ]
        }
      ]
    },
    {
      "cell_type": "code",
      "metadata": {
        "colab": {
          "base_uri": "https://localhost:8080/"
        },
        "id": "HRC9lygEEbX-",
        "outputId": "8e6b996f-ba73-440f-a766-87b76f18de6f"
      },
      "source": [
        "with open('data.csv','rt')as f:\n",
        "  data = csv.reader(f)\n",
        "  for row in data:\n",
        "        print(row)"
      ],
      "execution_count": null,
      "outputs": [
        {
          "output_type": "stream",
          "name": "stdout",
          "text": [
            "['\\ufeffProgramming language', 'Designed by', 'Appeared', 'Extension']\n",
            "['Python', 'Guido van Rossum', '1991', '.py']\n",
            "['Java', 'James Gosling', '1995', '.java']\n",
            "['C++', 'Bjarne Stroustrup', '1983', '.cpp']\n"
          ]
        }
      ]
    },
    {
      "cell_type": "code",
      "metadata": {
        "colab": {
          "base_uri": "https://localhost:8080/"
        },
        "id": "A7NcDjCBJqSt",
        "outputId": "0c2d349f-607a-4537-baea-163034bc0dc4"
      },
      "source": [
        "df = pd.read_csv ('std1.csv')\n",
        "# print(df)\n",
        "dup = df.duplicated()\n",
        "print(dup)"
      ],
      "execution_count": null,
      "outputs": [
        {
          "output_type": "stream",
          "name": "stdout",
          "text": [
            "0    False\n",
            "1    False\n",
            "2    False\n",
            "3    False\n",
            "4    False\n",
            "5     True\n",
            "dtype: bool\n"
          ]
        }
      ]
    },
    {
      "cell_type": "code",
      "metadata": {
        "colab": {
          "base_uri": "https://localhost:8080/"
        },
        "id": "puzCYwwsOSJz",
        "outputId": "02670259-d994-4ca6-affd-3c318b6c07f7"
      },
      "source": [
        "df = pd.read_csv ('std1.csv')\n",
        "dup=df.drop_duplicates()\n",
        "print(dup)"
      ],
      "execution_count": null,
      "outputs": [
        {
          "output_type": "stream",
          "name": "stdout",
          "text": [
            "   Roll number    name   mark\n",
            "0            1     Arun    76\n",
            "1            2  Anthony    84\n",
            "2            3      Sam    92\n",
            "3            4    Smith    66\n",
            "4            5     Zoya    99\n"
          ]
        }
      ]
    },
    {
      "cell_type": "code",
      "metadata": {
        "colab": {
          "base_uri": "https://localhost:8080/",
          "height": 143
        },
        "id": "Qkl9WepRO7Vy",
        "outputId": "9df6490d-b815-4056-fdb7-de735f889d01"
      },
      "source": [
        "df.head(3)"
      ],
      "execution_count": null,
      "outputs": [
        {
          "output_type": "execute_result",
          "data": {
            "text/html": [
              "<div>\n",
              "<style scoped>\n",
              "    .dataframe tbody tr th:only-of-type {\n",
              "        vertical-align: middle;\n",
              "    }\n",
              "\n",
              "    .dataframe tbody tr th {\n",
              "        vertical-align: top;\n",
              "    }\n",
              "\n",
              "    .dataframe thead th {\n",
              "        text-align: right;\n",
              "    }\n",
              "</style>\n",
              "<table border=\"1\" class=\"dataframe\">\n",
              "  <thead>\n",
              "    <tr style=\"text-align: right;\">\n",
              "      <th></th>\n",
              "      <th>Roll number</th>\n",
              "      <th>name</th>\n",
              "      <th>mark</th>\n",
              "    </tr>\n",
              "  </thead>\n",
              "  <tbody>\n",
              "    <tr>\n",
              "      <th>0</th>\n",
              "      <td>1</td>\n",
              "      <td>Arun</td>\n",
              "      <td>76</td>\n",
              "    </tr>\n",
              "    <tr>\n",
              "      <th>1</th>\n",
              "      <td>2</td>\n",
              "      <td>Anthony</td>\n",
              "      <td>84</td>\n",
              "    </tr>\n",
              "    <tr>\n",
              "      <th>2</th>\n",
              "      <td>3</td>\n",
              "      <td>Sam</td>\n",
              "      <td>92</td>\n",
              "    </tr>\n",
              "  </tbody>\n",
              "</table>\n",
              "</div>"
            ],
            "text/plain": [
              "   Roll number    name   mark\n",
              "0            1     Arun    76\n",
              "1            2  Anthony    84\n",
              "2            3      Sam    92"
            ]
          },
          "metadata": {},
          "execution_count": 27
        }
      ]
    },
    {
      "cell_type": "code",
      "metadata": {
        "colab": {
          "base_uri": "https://localhost:8080/",
          "height": 112
        },
        "id": "u3tgl97pQdHJ",
        "outputId": "8ff87ac8-767e-4fff-e3ee-7eb96b9c7065"
      },
      "source": [
        "df.tail(2)"
      ],
      "execution_count": null,
      "outputs": [
        {
          "output_type": "execute_result",
          "data": {
            "text/html": [
              "<div>\n",
              "<style scoped>\n",
              "    .dataframe tbody tr th:only-of-type {\n",
              "        vertical-align: middle;\n",
              "    }\n",
              "\n",
              "    .dataframe tbody tr th {\n",
              "        vertical-align: top;\n",
              "    }\n",
              "\n",
              "    .dataframe thead th {\n",
              "        text-align: right;\n",
              "    }\n",
              "</style>\n",
              "<table border=\"1\" class=\"dataframe\">\n",
              "  <thead>\n",
              "    <tr style=\"text-align: right;\">\n",
              "      <th></th>\n",
              "      <th>Roll number</th>\n",
              "      <th>name</th>\n",
              "      <th>mark</th>\n",
              "    </tr>\n",
              "  </thead>\n",
              "  <tbody>\n",
              "    <tr>\n",
              "      <th>4</th>\n",
              "      <td>5</td>\n",
              "      <td>Zoya</td>\n",
              "      <td>99</td>\n",
              "    </tr>\n",
              "    <tr>\n",
              "      <th>5</th>\n",
              "      <td>1</td>\n",
              "      <td>Arun</td>\n",
              "      <td>76</td>\n",
              "    </tr>\n",
              "  </tbody>\n",
              "</table>\n",
              "</div>"
            ],
            "text/plain": [
              "   Roll number name   mark\n",
              "4            5  Zoya    99\n",
              "5            1  Arun    76"
            ]
          },
          "metadata": {},
          "execution_count": 28
        }
      ]
    },
    {
      "cell_type": "code",
      "metadata": {
        "colab": {
          "base_uri": "https://localhost:8080/",
          "height": 112
        },
        "id": "lPMGGpkuRAeq",
        "outputId": "81958df1-88eb-4d35-fe0f-004feaeb3ad4"
      },
      "source": [
        "df.corr()"
      ],
      "execution_count": null,
      "outputs": [
        {
          "output_type": "execute_result",
          "data": {
            "text/html": [
              "<div>\n",
              "<style scoped>\n",
              "    .dataframe tbody tr th:only-of-type {\n",
              "        vertical-align: middle;\n",
              "    }\n",
              "\n",
              "    .dataframe tbody tr th {\n",
              "        vertical-align: top;\n",
              "    }\n",
              "\n",
              "    .dataframe thead th {\n",
              "        text-align: right;\n",
              "    }\n",
              "</style>\n",
              "<table border=\"1\" class=\"dataframe\">\n",
              "  <thead>\n",
              "    <tr style=\"text-align: right;\">\n",
              "      <th></th>\n",
              "      <th>Roll number</th>\n",
              "      <th>mark</th>\n",
              "    </tr>\n",
              "  </thead>\n",
              "  <tbody>\n",
              "    <tr>\n",
              "      <th>Roll number</th>\n",
              "      <td>1.000000</td>\n",
              "      <td>0.411412</td>\n",
              "    </tr>\n",
              "    <tr>\n",
              "      <th>mark</th>\n",
              "      <td>0.411412</td>\n",
              "      <td>1.000000</td>\n",
              "    </tr>\n",
              "  </tbody>\n",
              "</table>\n",
              "</div>"
            ],
            "text/plain": [
              "             Roll number      mark\n",
              "Roll number     1.000000  0.411412\n",
              "mark            0.411412  1.000000"
            ]
          },
          "metadata": {},
          "execution_count": 31
        }
      ]
    },
    {
      "cell_type": "code",
      "source": [
        "import numpy as np # import NumPy with alias\n",
        "import pandas as pd\n",
        "array1 = np.array([1,2,3,4])\n",
        "series3 = pd.Series(array1)\n",
        "print(\"Serires :\",series3)\n",
        "print(\"Array :\",array1)"
      ],
      "metadata": {
        "colab": {
          "base_uri": "https://localhost:8080/"
        },
        "id": "j_0EFYUvFwnA",
        "outputId": "ca5a9d96-5e33-4232-fcd8-e65533b7cc80"
      },
      "execution_count": null,
      "outputs": [
        {
          "output_type": "stream",
          "name": "stdout",
          "text": [
            "Serires : 0    1\n",
            "1    2\n",
            "2    3\n",
            "3    4\n",
            "dtype: int64\n",
            "Array : [1 2 3 4]\n"
          ]
        }
      ]
    }
  ]
}