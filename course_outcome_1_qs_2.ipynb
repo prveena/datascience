{
  "nbformat": 4,
  "nbformat_minor": 0,
  "metadata": {
    "colab": {
      "name": "course outcome 1 qs:2",
      "provenance": [],
      "include_colab_link": true
    },
    "kernelspec": {
      "name": "python3",
      "display_name": "Python 3"
    },
    "language_info": {
      "name": "python"
    }
  },
  "cells": [
    {
      "cell_type": "markdown",
      "metadata": {
        "id": "view-in-github",
        "colab_type": "text"
      },
      "source": [
        "<a href=\"https://colab.research.google.com/github/prveena/datascience/blob/master/course_outcome_1_qs_2.ipynb\" target=\"_parent\"><img src=\"https://colab.research.google.com/assets/colab-badge.svg\" alt=\"Open In Colab\"/></a>"
      ]
    },
    {
      "cell_type": "code",
      "metadata": {
        "id": "q8dls3CfhGrA"
      },
      "source": [
        "import numpy as np\n",
        "arr=np.array([[1,2,3],[4,5,6]])\n",
        "print(\"Array type \",type(arr))\n",
        "print(\"Array dimension \",arr.ndim)\n",
        "print(\"Array shape \",arr.shape)\n",
        "print(\"Array size \",arr.size)"
      ],
      "execution_count": null,
      "outputs": []
    },
    {
      "cell_type": "code",
      "metadata": {
        "colab": {
          "base_uri": "https://localhost:8080/"
        },
        "id": "crjzXCjCh_MX",
        "outputId": "20c0c436-8106-4540-aa41-0b40b5c586a3"
      },
      "source": [
        "list=[1,2,3,4,5,6]\n",
        "print(\"List to array \")\n",
        "print(np.asarray(list))"
      ],
      "execution_count": null,
      "outputs": [
        {
          "output_type": "stream",
          "name": "stdout",
          "text": [
            "List to array \n",
            "[1 2 3 4 5 6]\n"
          ]
        }
      ]
    },
    {
      "cell_type": "code",
      "metadata": {
        "colab": {
          "base_uri": "https://localhost:8080/"
        },
        "id": "8-m3tjQijyox",
        "outputId": "bd22edb1-b71c-4d42-ca3b-60951e0e14e8"
      },
      "source": [
        "tuple=([1,2,3],[4,5,6])\n",
        "print(\"Tuple to array \")\n",
        "print(np.asarray(tuple))"
      ],
      "execution_count": null,
      "outputs": [
        {
          "output_type": "stream",
          "name": "stdout",
          "text": [
            "Tuple to array \n",
            "[[1 2 3]\n",
            " [4 5 6]]\n"
          ]
        }
      ]
    },
    {
      "cell_type": "code",
      "metadata": {
        "colab": {
          "base_uri": "https://localhost:8080/"
        },
        "id": "Jl2N6miPkHvH",
        "outputId": "ca912107-22f1-439e-d1aa-56e4938fe7db"
      },
      "source": [
        "l=[1,2,3]\n",
        "arr=np.array(l)\n",
        "print(\"One dimensional array \",arr)\n",
        "print(\"Dimension \",arr.ndim)"
      ],
      "execution_count": null,
      "outputs": [
        {
          "output_type": "stream",
          "name": "stdout",
          "text": [
            "One dimensional array  [1 2 3]\n",
            "Dimension  1\n"
          ]
        }
      ]
    },
    {
      "cell_type": "code",
      "metadata": {
        "colab": {
          "base_uri": "https://localhost:8080/"
        },
        "id": "JZGZxSS0kywk",
        "outputId": "728cc5bf-d94f-47d2-e1ca-6c330d3d2e27"
      },
      "source": [
        "arr=np.array([[1,2,3],[4,5,6]])\n",
        "print(\"Two dimensional array \",arr)\n",
        "print(\"Dimension \",arr.ndim)"
      ],
      "execution_count": null,
      "outputs": [
        {
          "output_type": "stream",
          "name": "stdout",
          "text": [
            "Two dimensional array  [[1 2 3]\n",
            " [4 5 6]]\n",
            "Dimension  2\n"
          ]
        }
      ]
    },
    {
      "cell_type": "code",
      "metadata": {
        "colab": {
          "base_uri": "https://localhost:8080/"
        },
        "id": "VtC9Ts7BlHwO",
        "outputId": "f6f9dd66-857c-4480-e67d-8d1153540cb1"
      },
      "source": [
        "arr=np.array([[1,2,3],[9,4,5]])\n",
        "print(\"Shape \",arr.shape)\n",
        "print(arr)\n",
        "arr.shape=3,2\n",
        "print(arr)\n"
      ],
      "execution_count": null,
      "outputs": [
        {
          "output_type": "stream",
          "name": "stdout",
          "text": [
            "Shape  (2, 3)\n",
            "[[1 2 3]\n",
            " [9 4 5]]\n",
            "[[1 2]\n",
            " [3 9]\n",
            " [4 5]]\n"
          ]
        }
      ]
    },
    {
      "cell_type": "code",
      "metadata": {
        "colab": {
          "base_uri": "https://localhost:8080/"
        },
        "id": "V_JOCIEhhr5Q",
        "outputId": "8d1c49ad-6347-4d85-d668-1842723ae650"
      },
      "source": [
        "a=np.zeros((3,3),dtype=int)\n",
        "print(a)"
      ],
      "execution_count": null,
      "outputs": [
        {
          "output_type": "stream",
          "name": "stdout",
          "text": [
            "[[0 0 0]\n",
            " [0 0 0]\n",
            " [0 0 0]]\n"
          ]
        }
      ]
    },
    {
      "cell_type": "code",
      "metadata": {
        "colab": {
          "base_uri": "https://localhost:8080/"
        },
        "id": "GUvWN1wVmo7Q",
        "outputId": "66246ff9-da6e-4b4d-b3eb-812b3d5a1715"
      },
      "source": [
        "a=np.ones((3,2),dtype=int)\n",
        "print(a)"
      ],
      "execution_count": null,
      "outputs": [
        {
          "output_type": "stream",
          "name": "stdout",
          "text": [
            "[[1 1]\n",
            " [1 1]\n",
            " [1 1]]\n"
          ]
        }
      ]
    },
    {
      "cell_type": "code",
      "metadata": {
        "colab": {
          "base_uri": "https://localhost:8080/"
        },
        "id": "LhPTyRhooXky",
        "outputId": "27ba9429-c912-4c14-fba7-1e400f6e59f6"
      },
      "source": [
        "a=np.eye(3,dtype=int)\n",
        "print(a)"
      ],
      "execution_count": null,
      "outputs": [
        {
          "output_type": "stream",
          "name": "stdout",
          "text": [
            "[[1 0 0]\n",
            " [0 1 0]\n",
            " [0 0 1]]\n"
          ]
        }
      ]
    },
    {
      "cell_type": "code",
      "metadata": {
        "colab": {
          "base_uri": "https://localhost:8080/"
        },
        "id": "7j2EOiLlpIUS",
        "outputId": "0e304adc-8734-407b-f202-a80d1eff151f"
      },
      "source": [
        "print(\"A = \",np.arange(3,20,2))"
      ],
      "execution_count": null,
      "outputs": [
        {
          "output_type": "stream",
          "name": "stdout",
          "text": [
            "A =  [ 3  5  7  9 11 13 15 17 19]\n"
          ]
        }
      ]
    },
    {
      "cell_type": "code",
      "metadata": {
        "colab": {
          "base_uri": "https://localhost:8080/"
        },
        "id": "M4HDgaX5p7fk",
        "outputId": "8f6f1326-0d25-4418-b9d3-7a71a66c7628"
      },
      "source": [
        "arr1=([[1,2,3],[4,5,6]])\n",
        "arr2=([[4,5,6],[9,7,8]])\n",
        "\n",
        "print(\"Sum of two matrix \",np.add(arr1,arr2))"
      ],
      "execution_count": null,
      "outputs": [
        {
          "output_type": "stream",
          "name": "stdout",
          "text": [
            "Sum of two matrix  [[ 5  7  9]\n",
            " [13 12 14]]\n"
          ]
        }
      ]
    },
    {
      "cell_type": "code",
      "metadata": {
        "colab": {
          "base_uri": "https://localhost:8080/"
        },
        "id": "TlkSTVyMrfGC",
        "outputId": "0127f980-06c9-44fd-8a9e-072bf1910a8a"
      },
      "source": [
        "a=([[6,7,8],[2,3,1]])\n",
        "b=([[8,7,6],[6,3,2]])\n",
        "print(\"A-B =\",np.subtract(a,b))\n",
        "print(\"B-A =\",np.subtract(b,a))\n",
        "print(\"A**2 =\",np.power(a,2))\n",
        "print(\"A*B =\",np.multiply(a,b))\n",
        "print(\"A/B =\",np.divide(a,b))"
      ],
      "execution_count": null,
      "outputs": [
        {
          "output_type": "stream",
          "name": "stdout",
          "text": [
            "A-B = [[-2  0  2]\n",
            " [-4  0 -1]]\n",
            "B-A = [[ 2  0 -2]\n",
            " [ 4  0  1]]\n",
            "A**2 = [[36 49 64]\n",
            " [ 4  9  1]]\n",
            "A*B = [[48 49 48]\n",
            " [12  9  2]]\n",
            "A/B = [[0.75       1.         1.33333333]\n",
            " [0.33333333 1.         0.5       ]]\n"
          ]
        }
      ]
    },
    {
      "cell_type": "code",
      "metadata": {
        "colab": {
          "base_uri": "https://localhost:8080/"
        },
        "id": "EhSi5XDNsa9n",
        "outputId": "fffce1ea-ed24-4cb5-8edc-52f413da6a2b"
      },
      "source": [
        "print(\"A =\",np.linspace(1,10,num=5,endpoint=True,retstep=True))\n",
        "print(\"B =\",np.linspace(1,10,num=5,endpoint=True,retstep=True,dtype=int))\n",
        "print(\"c =\",np.linspace(1,10,num=5,endpoint=True))"
      ],
      "execution_count": null,
      "outputs": [
        {
          "output_type": "stream",
          "name": "stdout",
          "text": [
            "A = (array([ 1.  ,  3.25,  5.5 ,  7.75, 10.  ]), 2.25)\n",
            "B = (array([ 1,  3,  5,  7, 10]), 2.25)\n",
            "c = [ 1.    3.25  5.5   7.75 10.  ]\n"
          ]
        }
      ]
    },
    {
      "cell_type": "code",
      "metadata": {
        "colab": {
          "base_uri": "https://localhost:8080/"
        },
        "id": "JZZmlpNuw-IF",
        "outputId": "689c9cbe-d19a-45ea-84ec-8a9f39258975"
      },
      "source": [
        "a=np.array([3,4,5,6,1,6])\n",
        "print(\"Original array= \",a)\n",
        "b=a.reshape(2,3)\n",
        "print(\"Reshaped array =\",b)"
      ],
      "execution_count": null,
      "outputs": [
        {
          "output_type": "stream",
          "name": "stdout",
          "text": [
            "Original array=  [3 4 5 6 1 6]\n",
            "Reshaped array = [[3 4 5]\n",
            " [6 1 6]]\n"
          ]
        }
      ]
    },
    {
      "cell_type": "code",
      "metadata": {
        "colab": {
          "base_uri": "https://localhost:8080/"
        },
        "id": "S_fV2D4Ez7yM",
        "outputId": "b7d41ff8-39a6-4c70-ae95-dcb0c3ff0e59"
      },
      "source": [
        "a=np.array([[1,2,3],[5,6,7]])\n",
        "b=np.resize(a,(3,2))\n",
        "print(\"Resized array =\",b)\n"
      ],
      "execution_count": null,
      "outputs": [
        {
          "output_type": "stream",
          "name": "stdout",
          "text": [
            "Resized array = [[1 2]\n",
            " [3 5]\n",
            " [6 7]]\n"
          ]
        }
      ]
    }
  ]
}